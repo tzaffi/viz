{
 "cells": [
  {
   "cell_type": "markdown",
   "metadata": {},
   "source": [
    "# Querying a Postgres Database via an SSH Tunnel"
   ]
  },
  {
   "cell_type": "code",
   "execution_count": null,
   "metadata": {},
   "outputs": [],
   "source": [
    "import os\n",
    "from sshtunnel import SSHTunnelForwarder\n",
    "import psycopg2\n",
    "import pandas as pd"
   ]
  },
  {
   "cell_type": "code",
   "execution_count": null,
   "metadata": {},
   "outputs": [],
   "source": [
    "PORT=5432\n",
    "REMOTE_SSH_PORT=22\n",
    "LOCAL_BIND_PORT=55009\n",
    "PRIVATE_KEY_PATH='~/.ssh/id_rsa'\n",
    "TUNNEL = SSHTunnelForwarder(\n",
    "        (os.getenv('SSHPROXY'), REMOTE_SSH_PORT),\n",
    "        ssh_username=os.getenv('ADWUSER'),\n",
    "        ssh_private_key=PRIVATE_KEY_PATH,\n",
    "        remote_bind_address=(os.getenv('ADWHOST'), PORT),\n",
    "        local_bind_address=('localhost', LOCAL_BIND_PORT),\n",
    "        threaded=False,\n",
    ")\n",
    "\n",
    "def query(sqlQuery):\n",
    "    try:\n",
    "        TUNNEL.close()\n",
    "        TUNNEL.start()\n",
    "        with psycopg2.connect(\n",
    "            database=os.getenv('ADWNAME'),\n",
    "            user=os.getenv('ADWUSER'),\n",
    "            password=os.getenv('ADWPSWD'),\n",
    "            host=TUNNEL.local_bind_host,\n",
    "            port=TUNNEL.local_bind_port,\n",
    "        ) as conn:\n",
    "            with conn.cursor() as cur:\n",
    "                cur.execute(sqlQuery)\n",
    "                temporaryTable = cur.fetchall()\n",
    "                dataz = pd.DataFrame.from_records(temporaryTable, coerce_float=True)\n",
    "                colnames = [desc[0] for desc in cur.description]\n",
    "                columnDict = dict([(i, colnames[i]) for i in range(len(colnames))])\n",
    "                dataz = dataz.rename(columns=columnDict)\n",
    "                print(\"Query returned\", \"{:,}\".format(len(dataz)), \"row(s)\")\n",
    "                return dataz\n",
    "    except:\n",
    "        TUNNEL.close()"
   ]
  },
  {
   "cell_type": "code",
   "execution_count": null,
   "metadata": {},
   "outputs": [],
   "source": [
    "sql = '''\n",
    "YOUR QUERY GOES HERE\n",
    ";'''"
   ]
  },
  {
   "cell_type": "code",
   "execution_count": null,
   "metadata": {},
   "outputs": [],
   "source": [
    "df = query(sql)"
   ]
  },
  {
   "cell_type": "code",
   "execution_count": null,
   "metadata": {},
   "outputs": [],
   "source": [
    "df"
   ]
  },
  {
   "cell_type": "code",
   "execution_count": null,
   "metadata": {},
   "outputs": [],
   "source": []
  }
 ],
 "metadata": {
  "kernelspec": {
   "display_name": "Python 3",
   "language": "python",
   "name": "python3"
  },
  "language_info": {
   "codemirror_mode": {
    "name": "ipython",
    "version": 3
   },
   "file_extension": ".py",
   "mimetype": "text/x-python",
   "name": "python",
   "nbconvert_exporter": "python",
   "pygments_lexer": "ipython3",
   "version": "3.7.4"
  }
 },
 "nbformat": 4,
 "nbformat_minor": 2
}
